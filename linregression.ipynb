{
 "cells": [
  {
   "cell_type": "markdown",
   "metadata": {},
   "source": [
    "Linear Regression Data Exploration: BDSW demo purpose\n",
    "=========\n",
    "***\n",
    "\n",
    "This is a simple notebook to present some capabilities offer by Jupyter notebooks\n"
   ]
  },
  {
   "cell_type": "markdown",
   "metadata": {},
   "source": [
    "## I. Browse Data\n",
    "\t\t \t \t\n",
    "The data have the following variables (with data type and explanation of meaning)\n",
    "\t\t\t\n",
    "* __Amount.Requested__ - _numeric_. The amount (in dollars) requested in the loan application.  \t\t\n",
    "  \n",
    "* __Amount.Funded.By.Investors__ - _numeric_.  The amount (in dollars) loaned to the individual.  \n",
    "\n",
    "* Interest.rate – character. The lending interest rate charged to the borrower.  \n",
    "\n",
    "* Loan.length - character. The length of time (in months) of the loan.    \t\t\t\n",
    "\n",
    "etc ...\n",
    "\t\t"
   ]
  },
  {
   "cell_type": "markdown",
   "metadata": {},
   "source": [
    "## II. Data Cleanup \n",
    "\n",
    "We find the data are \"messy\" i.e aren't cleanly prepared for import - for instance numeric columns might have some strings in them.  This is very common in raw data especially that obtained from web sites.\n",
    "\n",
    "Let's take a look. we're going to look at the first five rows of some specific columns that show the data dirtiness issues."
   ]
  },
  {
   "cell_type": "code",
   "execution_count": null,
   "metadata": {},
   "outputs": [],
   "source": [
    "pip install pandas==0.24.2  matplotlib scipy "
   ]
  },
  {
   "cell_type": "code",
   "execution_count": null,
   "metadata": {},
   "outputs": [],
   "source": [
    "%matplotlib inline\n",
    "# first we ingest the data from the source on the web\n",
    "# this contains a reduced version of the data set from Lending Club\n",
    "import pandas as pd\n",
    "loansData = pd.read_csv('https://spark-public.s3.amazonaws.com/dataanalysis/loansData.csv')"
   ]
  },
  {
   "cell_type": "code",
   "execution_count": null,
   "metadata": {},
   "outputs": [],
   "source": [
    "loansData['Interest.Rate'][0:5] # first five rows of Interest.Rate"
   ]
  },
  {
   "cell_type": "code",
   "execution_count": null,
   "metadata": {},
   "outputs": [],
   "source": [
    "loansData['Loan.Length'][0:5] # first five rows of Loan.Length"
   ]
  },
  {
   "cell_type": "markdown",
   "metadata": {},
   "source": [
    "We can comment the results (for example to share opinion°:\n",
    "\n",
    "* the interest rate information has \"%\" symbols in it.\n",
    "* loan length has \" months\" in it\n",
    "\n"
   ]
  },
  {
   "cell_type": "code",
   "execution_count": null,
   "metadata": {},
   "outputs": [],
   "source": [
    "loansData['FICO.Range'][0:5] # first five rows of FICO.Range"
   ]
  },
  {
   "cell_type": "markdown",
   "metadata": {},
   "source": [
    "## Visual Exploration  \n",
    "\n",
    "Now we can explore datas and display plotswe encounter in other explorations.  \n",
    "\n",
    "### Histogram\n",
    "\n",
    "A histogram shows us the shape of the distribution of values for a **single** variable. See example below"
   ]
  },
  {
   "cell_type": "code",
   "execution_count": null,
   "metadata": {},
   "outputs": [],
   "source": [
    "import matplotlib.pyplot as plt\n",
    "import pandas as pd\n",
    "plt.figure()\n",
    "loansmin = pd.read_csv('./loanf.csv')\n",
    "fico = loansmin['FICO.Score']\n",
    "p = fico.hist()"
   ]
  },
  {
   "cell_type": "markdown",
   "metadata": {},
   "source": [
    "  \n",
    "\n",
    "Another example with a boxplot \n",
    "\n",
    "### Box Plot\n",
    "\n"
   ]
  },
  {
   "cell_type": "code",
   "execution_count": null,
   "metadata": {},
   "outputs": [],
   "source": [
    "import matplotlib.pyplot as plt\n",
    "import pandas as pd\n",
    "plt.figure()\n",
    "loansmin = pd.read_csv('./loanf.csv')\n",
    "\n",
    "p = loansmin.boxplot('Interest.Rate','FICO.Score')\n",
    "q = p.set_xticklabels(['640','','','','660','','','','680','','','','700',\n",
    "  '720','','','','740','','','','760','','','','780','','','','800','','','','820','','','','840'])\n",
    "\n",
    "q0 = p.set_xlabel('FICO Score')\n",
    "q1 = p.set_ylabel('Interest Rate %')\n",
    "q2 = p.set_title('                          ')\n"
   ]
  },
  {
   "cell_type": "markdown",
   "metadata": {},
   "source": [
    "And also a scatterplot \n",
    "\n",
    "### Scatterplot Matrix\n",
    "\n",
    "But first what is it?  \n",
    "\n",
    "The scatterplot matrix is a grid of plots of multiple variables against each other.  It shows the relationship of each variable to the others.  \n",
    "We're going to look at a scatterplot matrix of the five variables in our data."
   ]
  },
  {
   "cell_type": "code",
   "execution_count": null,
   "metadata": {},
   "outputs": [],
   "source": [
    "import pandas as pd\n",
    "import scipy\n",
    "from pandas.plotting import scatter_matrix\n",
    "loansmin = pd.read_csv('./loanf.csv')\n",
    "a = scatter_matrix(loansmin,alpha=0.05,figsize=(10,10), diagonal='kde')\n",
    "## Click on the line above\n",
    "## Change 'hist' to 'kde' then hit shift-enter, with the cursor still in this box\n"
   ]
  },
  {
   "cell_type": "markdown",
   "metadata": {},
   "source": [
    "## Conclusion\n",
    "It's only a brief introduction Jupyter notebook capabilities."
   ]
  }
 ],
 "metadata": {
  "kernelspec": {
   "display_name": "Python 3",
   "language": "python",
   "name": "python3"
  },
  "language_info": {
   "codemirror_mode": {
    "name": "ipython",
    "version": 3
   },
   "file_extension": ".py",
   "mimetype": "text/x-python",
   "name": "python",
   "nbconvert_exporter": "python",
   "pygments_lexer": "ipython3",
   "version": "3.7.3"
  }
 },
 "nbformat": 4,
 "nbformat_minor": 1
}
