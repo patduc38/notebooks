{
 "cells": [
  {
   "cell_type": "markdown",
   "metadata": {},
   "source": [
    "Linear Regression Data Exploration: Lending Club\n",
    "=========\n",
    "***\n",
    "\n",
    "### How can I predict interest rates based on borrower and loan attributes?\n",
    "\n",
    "The [Lending Club](http://www.lendingclub.com) is a peer-to-peer lending site where members make loans to each other.\n",
    "The site makes anonymized data on loans and borrowers publicly available.  We're going to use these data to explore how the interest rate charged on loans depends on various factors.\n",
    "\n",
    "We want to explore these data, try to gain some insights into what might be useful in creating a linear regression model, and to separate out \"the noise\".\n",
    "\n",
    "We follow these steps, something we will do in future for other data sets as well.\n",
    "\n",
    "1. Browse the data  \n",
    "2. Data cleanup  \n",
    "3. Visual exploration  \n",
    "4. Model derivation  \n"
   ]
  },
  {
   "cell_type": "markdown",
   "metadata": {},
   "source": [
    "## I. Browse Data\n",
    "\t\t \t \t\n",
    "The data have the following variables (with data type and explanation of meaning)\n",
    "\t\t\t\n",
    "* __Amount.Requested__ - _numeric_. The amount (in dollars) requested in the loan application.  \t\t\n",
    "  \n",
    "* __Amount.Funded.By.Investors__ - _numeric_.  The amount (in dollars) loaned to the individual.  \n",
    "\n",
    "* Interest.rate – character. The lending interest rate charged to the borrower.  \n",
    "\n",
    "* Loan.length - character. The length of time (in months) of the loan.    \t\t\t\n",
    "\n",
    "* Loan.Purpose – categorical variable. The purpose of the loan as stated by the applicant.   \n",
    "\n",
    "* Debt.to.Income.Ratio – character  The % of consumer’s gross income going toward paying debts.   \n",
    "\n",
    "* State - character. The abbreviation for the U.S. state of residence of the loan applicant.   \n",
    "\n",
    "* Home.ownership - character. Indicates whether the applicant owns, rents, or has a mortgage.   \n",
    "\n",
    "* Monthly.income -­ categorical. The monthly income of the applicant (in dollars).  \n",
    "\n",
    "* FICO.range  – categorical (expressed as a string label e.g. “650-655”). A range indicating the applicants FICO score. \t\n",
    "\n",
    "* Open.CREDIT.Lines - numeric. The number of open lines of credit at the time of application.  \n",
    "\n",
    "* Revolving.CREDIT.Balance - numeric. The total amount outstanding all lines of credit.   \t\t\t\n",
    "\n",
    "* Inquiries.in.the.Last.6.Months - numeric. Number of credit inquiries in the previous 6 months.  \n",
    "\n",
    "* Employment.Length - character.  Length of time employed at current job.  \n",
    "\t\t"
   ]
  },
  {
   "cell_type": "markdown",
   "metadata": {},
   "source": [
    "## II. Data Cleanup \n",
    "\n",
    "We find the data are \"messy\" i.e aren't cleanly prepared for import - for instance numeric columns might have some strings in them.  This is very common in raw data especially that obtained from web sites.\n",
    "\n",
    "Let's take a look. we're going to look at the first five rows of some specific columns that show the data dirtiness issues."
   ]
  },
  {
   "cell_type": "code",
   "execution_count": null,
   "metadata": {},
   "outputs": [],
   "source": [
    "pip install pandas==0.24.2; pip install matplotlib"
   ]
  },
  {
   "cell_type": "code",
   "execution_count": null,
   "metadata": {},
   "outputs": [],
   "source": [
    "pip list pandas"
   ]
  },
  {
   "cell_type": "code",
   "execution_count": null,
   "metadata": {},
   "outputs": [],
   "source": [
    "%matplotlib inline\n",
    "# first we ingest the data from the source on the web\n",
    "# this contains a reduced version of the data set from Lending Club\n",
    "import pandas as pd\n",
    "loansData = pd.read_csv('https://spark-public.s3.amazonaws.com/dataanalysis/loansData.csv')"
   ]
  },
  {
   "cell_type": "code",
   "execution_count": null,
   "metadata": {},
   "outputs": [],
   "source": [
    "loansData['Interest.Rate'][0:5] # first five rows of Interest.Rate"
   ]
  },
  {
   "cell_type": "code",
   "execution_count": null,
   "metadata": {},
   "outputs": [],
   "source": [
    "loansData['Loan.Length'][0:5] # first five rows of Loan.Length"
   ]
  },
  {
   "cell_type": "markdown",
   "metadata": {},
   "source": [
    "We see here that:\n",
    "\n",
    "* the interest rate information has \"%\" symbols in it.\n",
    "* loan length has \" months\" in it\n",
    "\n",
    "Other than that we can also see (exploration exercise):\n",
    "\n",
    "* there are a couple of values that are so large they must be typos\n",
    "* some values are missing \"NA\" values i.e. not available.\n",
    "* the FICO Range is really a numeric entity but is represented as a categorical variable in the data."
   ]
  },
  {
   "cell_type": "code",
   "execution_count": null,
   "metadata": {},
   "outputs": [],
   "source": [
    "loansData['FICO.Range'][0:5] # first five rows of FICO.Range"
   ]
  },
  {
   "cell_type": "markdown",
   "metadata": {},
   "source": [
    "FICO Range is represented as a categorical variable in the data.\n",
    "\n",
    "We need to change the categorical variable for FICO Range into something numeric so that we can use it in our calculations.  As it stands, the values are merely labels, and while they convey meaning to humans, our software can't interpret them as the numbers they really represent.\n",
    "\n",
    "So as a first step, we convert them from categorical variables to strings.  So the abstract entity 735-739 becomes a string \"735-739\".\n",
    "Then we parse the strings so that a range such as \"735-739\" gets split into two numbers (735,739).\n",
    "\n",
    "Finally we pick a single number to represent this range. We could choose a midpoint but since the ranges are narrow we can get away with choosing one of the endpoints as a representative. Here we arbitrarily pick the lower limit and with some imperious hand waving, assert that it is not going to make a major difference to the outcome.\n",
    "\n",
    "In a further flourish of imperiousness we could declare that \"the proof is left as an exercise to the reader\". But in reality there is really no such formal \"proof\" other than trying it out in different ways and convincing oneself.  If we wanted to be mathematically conservative we could take the midpoint of the range as a representative and this would satisfy most pointy-haired mathematician bosses that \"Data Science Dilbert\" might encounter."
   ]
  },
  {
   "cell_type": "markdown",
   "metadata": {},
   "source": [
    "\n",
    "To summarize - cleaning our data involves:\n",
    "\n",
    "* removing % signs from rates\n",
    "* removing the word ” months\" from loan length.\n",
    "* managing outliers - remove such rows in this case\n",
    "* managing NA - remove such rows in this case\n",
    "\n",
    "There is one especially high outlier with monthly income > 100K$+.  \n",
    "This is likely to be a typo and is removed as a data item.  \n",
    "There is also one data item with all N/A - this is also removed.  "
   ]
  },
  {
   "cell_type": "markdown",
   "metadata": {},
   "source": [
    "##Exercise\n",
    "Actually perform each of the above steps on the dataset i.e.\n",
    "\n",
    "* import the data\n",
    "* remove the '%' suffix from each row\n",
    "* remove the ' months' suffix from each row\n",
    "* remove the outlier rows\n",
    "* remove rows with NA\n",
    "\n",
    "Save your code in a reusable manner - these are steps you'll be doing repeatedly.\n"
   ]
  },
  {
   "cell_type": "markdown",
   "metadata": {},
   "source": [
    "##Visual Exploration  \n",
    "\n",
    "Now we are going to follow a standard set of steps in exploring data.  We apply the following simple visualizations. This is something we will typically also do for other data sets we encounter in other explorations.  \n",
    "\n",
    "###Histogram\n",
    "\n",
    "A histogram shows us the shape of the distribution of values for a **single** variable.\n",
    "On the x-axis we have the variable under question, divided into buckets or bins.  This is a key feature of a histogram.\n",
    "\n",
    "The bin size is adjustable and different bin sizes give different information.  A large bin size gives us an idea of the coarser grained structure of the distribution while a smaller bin size will shine light on the finer details of the distribution.  In either case we can compare distributions, or quickly identify some key hints that tell use how best to proceed.\n",
    "\n",
    "With the distribution of FICO scores we see the histogram below."
   ]
  },
  {
   "cell_type": "code",
   "execution_count": null,
   "metadata": {},
   "outputs": [],
   "source": [
    "import matplotlib.pyplot as plt\n",
    "import pandas as pd\n",
    "plt.figure()\n",
    "loansmin = pd.read_csv('../datasets/loanf.csv')\n",
    "fico = loansmin['FICO.Score']\n",
    "p = fico.hist()"
   ]
  },
  {
   "cell_type": "markdown",
   "metadata": {},
   "source": [
    "  \n",
    "\n",
    "Why do we look at FICO score?  Because we know from domain knowledge that this is the primary determinant of interest rate.  \n",
    "The histogram shows us that the distribution is not a normal or gaussian distribution but that there are some other factors that might be affecting or distorting the shape of the distribution away from the bell curve.  We want to dig a little deeper.  \n",
    "\n",
    "###Box Plot\n",
    "\n",
    "Next we take a box plot which allows us to quickly look at the distribution of interest rates based on each FICO score range.   \n"
   ]
  },
  {
   "cell_type": "code",
   "execution_count": null,
   "metadata": {},
   "outputs": [],
   "source": [
    "import matplotlib.pyplot as plt\n",
    "import pandas as pd\n",
    "plt.figure()\n",
    "loansmin = pd.read_csv('../datasets/loanf.csv')\n",
    "\n",
    "p = loansmin.boxplot('Interest.Rate','FICO.Score')\n",
    "q = p.set_xticklabels(['640','','','','660','','','','680','','','','700',\n",
    "  '720','','','','740','','','','760','','','','780','','','','800','','','','820','','','','840'])\n",
    "\n",
    "q0 = p.set_xlabel('FICO Score')\n",
    "q1 = p.set_ylabel('Interest Rate %')\n",
    "q2 = p.set_title('                          ')\n"
   ]
  },
  {
   "cell_type": "markdown",
   "metadata": {},
   "source": [
    "First of all this tells us that there is a general downward trend in interest rate for higher FICO scores.\n",
    "But, given the same range of FICO scores we see a range of interest rates not a single value - so it appears there are other factors determining interest rate, given the same FICO score range. We want to investigate the impact of these other drivers and quantify this impact.  \n",
    "\n",
    "What might these be?    \n",
    "\n",
    "Let's use a little domain knowledge again. We know interest rate is based on risk to the borrower: the greater the risk, the greater the interest rate charged to compensate for the risk.  Another factor that might affect risk is the size of the loan - the larger the amount the greater the risk of non-payment and also the greater the negative impact of actual default.\n",
    "\n",
    "We want to look at multiple factors and how they might affect the interest rate.  \n",
    "A great way to look at multiple factors simultaneously is the scatterplot matrix.  We are going to use this as the next step in visual exploration.  \n",
    "\n",
    "### Scatterplot Matrix\n",
    "\n",
    "But first what is it?  \n",
    "\n",
    "The scatterplot matrix is a grid of plots of multiple variables against each other.  It shows the relationship of each variable to the others.  The ones on the diagonal don't fit this pattern. Why not? What does it mean to find the relationship of something to itself, in this context.  Not much, since we are trying to determine the impact of some variable on **another** variable.  "
   ]
  },
  {
   "cell_type": "markdown",
   "metadata": {},
   "source": [
    "We're going to look at a scatterplot matrix of the five variables in our data."
   ]
  },
  {
   "cell_type": "markdown",
   "metadata": {},
   "source": [
    "<img src=\"files/images/important.png\" />"
   ]
  },
  {
   "cell_type": "code",
   "execution_count": null,
   "metadata": {},
   "outputs": [],
   "source": [
    "## TRY THIS!\n",
    "import pandas as pd\n",
    "from pandas.plotting import scatter_matrix\n",
    "loansmin = pd.read_csv('../datasets/loanf.csv')\n",
    "a = scatter_matrix(loansmin,alpha=0.05,figsize=(10,10), diagonal='hist')\n",
    "## Click on the line above\n",
    "## Change 'hist' to 'kde' then hit shift-enter, with the cursor still in this box\n",
    "## The plot will redraw - it takes a while. While it is recomputing you will see a \n",
    "## message-box that says 'Kernel Busy' near the top right corner\n",
    "## You can change the code and hit shift-enter to re-execute the code\n",
    "## Try changing the (10,10) to (8,8) and (12,12)\n",
    "## Try changing the alpha value from 0.05 to 0.5 \n",
    "## How does this change in alpha change your ability to interpret the data?\n",
    "## Feel free to try other variations. \n",
    "## If at any time you scramble the code and forget the syntax \n",
    "## a copy of the original code is below. Copy and paste it in place. \n",
    "## Remember to remove the hashmarks.\n",
    "## a = pd.scatter_matrix(loansmin, alpha=0.05,figsize=(10,10), diagonal='hist)\n"
   ]
  },
  {
   "cell_type": "markdown",
   "metadata": {},
   "source": [
    "In this diagram, the boxes on the diagonal contain histogram plots of the respective variable itself.\n",
    "\n",
    "So if the 3rd variable is Loan Amount then the third row and third column are the Loan Amount column and row. And the third element down the diagonal is the histogram of the Loan Amount.  \n",
    "\n",
    "To see how Loan Amount (3rd) affects Interest Rate (1st) then we look for the intersection of the 3rd row and the 1st column.  \n",
    "\n",
    "We also notice that we could have looked for the intersection of the 3rd column and 1st row.  They have the same plot. The scatterplot matrix plot is visually symmetric about the diagonal.\n",
    "\n",
    "Where there is some significant, useful effect we will see a noticeable trend in the scatterplot at the intersection.  Where there is none we will see no noticeable trend.  \n",
    "\n",
    "What do the last two sentences mean in practice?\n",
    "\n",
    "Let's compare two plots: the first one at the intersection of 1st row and 2nd column, and the second at the intersection of 1st row 4th column.\n",
    "\n",
    "In the first, FICO score shows an approximate but unmistakeable linear trend.\n",
    "\n",
    "In the second, Monthly Income shows no impact as we move along the x-axis. All the dots are bunched up near one end but show no clear, linear trend like the first one. \n",
    "\n",
    "Similarly there is no obvious variation in the plot for Loan Length while there is a distinct but increasing trend trend also in the plot for Loan Amount.\n",
    "\n",
    "So what does this suggest?  It suggests that we should use FICO and Loan Amount in our model as independent variables, while Monthly Income and Loan Length don't seem to be too useful as independent variables."
   ]
  },
  {
   "cell_type": "markdown",
   "metadata": {},
   "source": [
    "## Conclusion\n",
    "So at the end of this data alchemy exercise we have distilled our variables into two beakers - one has what we believe is relevant - the data nuggets, and the other, the data dross.....the variables that have no visible impact on our dependent variable.\n",
    "\n",
    "We're going to refine our output even further into a model in the next step - the analysis."
   ]
  },
  {
   "cell_type": "code",
   "execution_count": null,
   "metadata": {},
   "outputs": [],
   "source": [
    "from IPython.core.display import HTML\n",
    "def css_styling():\n",
    "    styles = open(\"../styles/custom.css\", \"r\").read()\n",
    "    return HTML(styles)\n",
    "css_styling()"
   ]
  },
  {
   "cell_type": "code",
   "execution_count": null,
   "metadata": {},
   "outputs": [],
   "source": []
  }
 ],
 "metadata": {
  "kernelspec": {
   "display_name": "Python 3",
   "language": "python",
   "name": "python3"
  },
  "language_info": {
   "codemirror_mode": {
    "name": "ipython",
    "version": 3
   },
   "file_extension": ".py",
   "mimetype": "text/x-python",
   "name": "python",
   "nbconvert_exporter": "python",
   "pygments_lexer": "ipython3",
   "version": "3.7.2"
  }
 },
 "nbformat": 4,
 "nbformat_minor": 1
}
